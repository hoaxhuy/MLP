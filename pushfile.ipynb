{
 "cells": [
  {
   "cell_type": "code",
   "execution_count": 1,
   "metadata": {},
   "outputs": [],
   "source": [
    "from minio import Minio\n",
    "from minio.error import S3Error"
   ]
  },
  {
   "cell_type": "code",
   "execution_count": 5,
   "metadata": {},
   "outputs": [],
   "source": [
    "def upload_to_minio(minio_endpoint, access_key, secret_key, bucket_name, file_path, object_name):\n",
    "    # Khởi tạo client MinIO\n",
    "    minio_client = Minio(\n",
    "        minio_endpoint,\n",
    "        access_key=access_key,\n",
    "        secret_key=secret_key,\n",
    "        secure=False \n",
    "    )\n",
    "\n",
    "    try:\n",
    "        # Kiểm tra xem bucket đã tồn tại chưa, nếu không thì tạo mới\n",
    "        if not minio_client.bucket_exists(bucket_name):\n",
    "            minio_client.make_bucket(bucket_name)\n",
    "\n",
    "        # Tải file lên MinIO\n",
    "        minio_client.fput_object(bucket_name, object_name, file_path)\n",
    "\n",
    "        print(f\"File {object_name} đã được tải lên thành công lên bucket {bucket_name}\")\n",
    "\n",
    "    except S3Error as e:\n",
    "        print(f\"Lỗi khi tải lên file lên MinIO: {e}\")"
   ]
  },
  {
   "cell_type": "code",
   "execution_count": 8,
   "metadata": {},
   "outputs": [],
   "source": [
    "minio_endpoint = \"127.0.0.1:9000/\"  # Điền địa chỉ MinIO server\n",
    "access_key = \"esiYrA6ToPkUjbHdp1FV\"\n",
    "secret_key = \"Tc05j3SW1Nl5BkFD181Yap6bEtxLiIWz6U3zw8tw\"\n",
    "bucket_name = \"file-server\"\n",
    "file_path = \"/home/huy/Downloads/intents.json\"  # Đường dẫn đến file cần tải lên\n",
    "object_name = \"intents.json\"  # Tên đối tượng trong MinIO"
   ]
  },
  {
   "cell_type": "code",
   "execution_count": 9,
   "metadata": {},
   "outputs": [
    {
     "name": "stdout",
     "output_type": "stream",
     "text": [
      "File intents.json đã được tải lên thành công lên bucket file-server\n"
     ]
    }
   ],
   "source": [
    "upload_to_minio(minio_endpoint, access_key, secret_key, bucket_name, file_path, object_name)"
   ]
  }
 ],
 "metadata": {
  "kernelspec": {
   "display_name": "Python 3",
   "language": "python",
   "name": "python3"
  },
  "language_info": {
   "codemirror_mode": {
    "name": "ipython",
    "version": 3
   },
   "file_extension": ".py",
   "mimetype": "text/x-python",
   "name": "python",
   "nbconvert_exporter": "python",
   "pygments_lexer": "ipython3",
   "version": "3.10.12"
  }
 },
 "nbformat": 4,
 "nbformat_minor": 2
}
